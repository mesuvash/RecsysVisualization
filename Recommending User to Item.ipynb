{
 "cells": [
  {
   "cell_type": "code",
   "execution_count": 131,
   "metadata": {
    "collapsed": false
   },
   "outputs": [
    {
     "name": "stdout",
     "output_type": "stream",
     "text": [
      "Populating the interactive namespace from numpy and matplotlib\n"
     ]
    }
   ],
   "source": [
    "%pylab inline"
   ]
  },
  {
   "cell_type": "code",
   "execution_count": 132,
   "metadata": {
    "collapsed": true
   },
   "outputs": [],
   "source": [
    "pylab.style.use('ggplot')"
   ]
  },
  {
   "cell_type": "code",
   "execution_count": 133,
   "metadata": {
    "collapsed": true
   },
   "outputs": [],
   "source": [
    "import pyrec"
   ]
  },
  {
   "cell_type": "code",
   "execution_count": 134,
   "metadata": {
    "collapsed": true
   },
   "outputs": [],
   "source": [
    "import ciso8601\n",
    "class DataParserTime:\n",
    "    def __init__(self, delim=\"\\t\"):\n",
    "        self.delim = delim\n",
    "        \n",
    "    def parse(self, line):\n",
    "        splitted = line.strip().split(self.delim)\n",
    "        d = ciso8601.parse_datetime(splitted[-1])\n",
    "        return (splitted[0], splitted[1], d.strftime('%s'))\n",
    "    \n",
    "class DataParser:\n",
    "    def __init__(self, delim=\"\\t\"):\n",
    "        self.delim = delim\n",
    "    def parse(self, line):\n",
    "        splitted = line.strip().split(self.delim)\n",
    "        return (splitted[0], splitted[1], \"1.0\")\n",
    "    \n",
    "class InfoParser:\n",
    "    def __init__(self, delim=\"\\t\"):\n",
    "        self.delim = delim\n",
    "        \n",
    "    def parse(self, line):\n",
    "        splitted = line.strip().split(self.delim)\n",
    "        return (splitted[0], splitted[1])\n"
   ]
  },
  {
   "cell_type": "code",
   "execution_count": 135,
   "metadata": {
    "collapsed": true
   },
   "outputs": [],
   "source": [
    "def id2name(fname, parser):\n",
    "    id2name = {}\n",
    "    with open(fname) as fp:\n",
    "        for line in fp:\n",
    "            item, name = parser.parse(line)\n",
    "            id2name[item] = name\n",
    "    return id2name"
   ]
  },
  {
   "cell_type": "code",
   "execution_count": 136,
   "metadata": {
    "collapsed": true
   },
   "outputs": [],
   "source": [
    "import scipy.sparse\n",
    "import numpy as np\n",
    "def keepTopKSimilarity(mat, k):\n",
    "    if not isinstance(mat, scipy.sparse.csc_matrix):\n",
    "        mat = mat.tocsc()\n",
    "        mat.sort_indices()\n",
    "    m, n = mat.shape\n",
    "    data, ci, rptr = mat.data, mat.indices, mat.indptr\n",
    "    for i in range(0, n):\n",
    "        data_indices = np.arange(rptr[i], rptr[i + 1])\n",
    "        sorted_indices = np.argsort(data[data_indices])[::-1]\n",
    "        data[(sorted_indices + rptr[i])[k:]] = 0.0\n",
    "    mat.eliminate_zeros()\n",
    "    return mat\n",
    "\n",
    "def removeAlreadyPurchasedUsers(reco, train):\n",
    "    temp = train.copy()\n",
    "    temp.data[:] = float(\"-inf\")\n",
    "    reco = reco + temp\n",
    "    reco.data[np.where(reco.data==float(\"-inf\"))[0]] = 0.0\n",
    "    return reco"
   ]
  },
  {
   "cell_type": "code",
   "execution_count": 137,
   "metadata": {
    "collapsed": false
   },
   "outputs": [],
   "source": [
    "def histogram_unary(data):\n",
    "    _max = int(data.max())\n",
    "    x = range(_max + 1)\n",
    "    y = [0]* (_max + 1)\n",
    "    for i in data:\n",
    "        y[int(i)] += 1\n",
    "    return x, y"
   ]
  },
  {
   "cell_type": "code",
   "execution_count": 241,
   "metadata": {
    "collapsed": true
   },
   "outputs": [],
   "source": [
    "from pyrec.utils.data_utils.data import Data, loadDataset\n",
    "from pyrec.utils.data_utils.lineParser import UserItemRatingParser\n",
    "from pyrec.evaluate.eval_ranking_metric import evalMetrics"
   ]
  },
  {
   "cell_type": "code",
   "execution_count": 139,
   "metadata": {
    "collapsed": true
   },
   "outputs": [],
   "source": [
    "train_path = \"/data3/ssedhain/datasets/movielens/1M/implicitfolds/train.1\"\n",
    "test_path = \"/data3/ssedhain/datasets/movielens/1M/implicitfolds/test.1\"\n",
    "item_info = \"/data3/ssedhain/datasets/movielens/1M/movies.dat\""
   ]
  },
  {
   "cell_type": "code",
   "execution_count": 216,
   "metadata": {
    "collapsed": false
   },
   "outputs": [
    {
     "name": "stderr",
     "output_type": "stream",
     "text": [
      "Loading data: [============================================] 100% Time: 0:00:01\n",
      "Loading data: [============================================] 100% Time: 0:00:00\n"
     ]
    }
   ],
   "source": [
    "parser = DataParser()\n",
    "d = Data()\n",
    "d.import_data(train_path, parser)\n",
    "train = d.R\n",
    "test, _ = loadDataset(test_path, d.users, d.items, parser)"
   ]
  },
  {
   "cell_type": "code",
   "execution_count": 141,
   "metadata": {
    "collapsed": true
   },
   "outputs": [],
   "source": [
    "from pyrec.recommender.linear_models.neighborhood.knn import KnnReco\n",
    "from pyrec.recommender.modelArgs import KnnArgs\n",
    "from pyrec.utils.distance_metric.similarity import cosineSimilarity"
   ]
  },
  {
   "cell_type": "markdown",
   "metadata": {},
   "source": [
    "<h1> Knn Based Recommendation </h1>"
   ]
  },
  {
   "cell_type": "code",
   "execution_count": 142,
   "metadata": {
    "collapsed": true
   },
   "outputs": [],
   "source": [
    "args = KnnArgs(cosineSimilarity, 50, \"user\")\n",
    "model = KnnReco(args)"
   ]
  },
  {
   "cell_type": "code",
   "execution_count": 151,
   "metadata": {
    "collapsed": false
   },
   "outputs": [],
   "source": [
    "reco = model.recommend_all(train)\n",
    "reco = removeAlreadyPurchasedUsers(reco, train)\n",
    "topk_users = keepTopKSimilarity(reco,10)\n",
    "topk_users_binarized = topk_users.copy()\n",
    "topk_users_binarized.data[:] = 1.0\n",
    "x, y = histogram_unary(topk_users_binarized.sum(axis=1))\n"
   ]
  },
  {
   "cell_type": "code",
   "execution_count": 153,
   "metadata": {
    "collapsed": false
   },
   "outputs": [
    {
     "name": "stdout",
     "output_type": "stream",
     "text": [
      "[ 8.8875751   4.54734053  5.7838103  ...,  0.1796053   0.1796053   0.1796053 ]\n"
     ]
    }
   ],
   "source": [
    "reco.eliminate_zeros()\n",
    "print reco.data"
   ]
  },
  {
   "cell_type": "code",
   "execution_count": 144,
   "metadata": {
    "collapsed": false
   },
   "outputs": [
    {
     "data": {
      "text/plain": [
       "<matplotlib.text.Text at 0x7fae36252c10>"
      ]
     },
     "execution_count": 144,
     "metadata": {},
     "output_type": "execute_result"
    },
    {
     "data": {
      "image/png": "[encoded data removed]",
      "text/plain": [
       "<matplotlib.figure.Figure at 0x7fae36b92e50>"
      ]
     },
     "metadata": {},
     "output_type": "display_data"
    }
   ],
   "source": [
    "pylab.scatter(x,y)\n",
    "pylab.xlabel(\"#items recommended\")\n",
    "pylab.ylabel(\"#users\")"
   ]
  },
  {
   "cell_type": "markdown",
   "metadata": {},
   "source": [
    "### Conclusion\n",
    "Standard knn (where we revert the role of user and items) most of the users dont get any recommendation i.e. most of the items are reommended to the power users"
   ]
  },
  {
   "cell_type": "markdown",
   "metadata": {},
   "source": [
    "<h3>Correlation between number of purchased items vs recommended items</h3>"
   ]
  },
  {
   "cell_type": "code",
   "execution_count": 145,
   "metadata": {
    "collapsed": false
   },
   "outputs": [
    {
     "data": {
      "text/plain": [
       "<matplotlib.text.Text at 0x7fae36242dd0>"
      ]
     },
     "execution_count": 145,
     "metadata": {},
     "output_type": "execute_result"
    },
    {
     "data": {
      "image/png": "[encoded data removed]",
      "text/plain": [
       "<matplotlib.figure.Figure at 0x7fae361ad510>"
      ]
     },
     "metadata": {},
     "output_type": "display_data"
    }
   ],
   "source": [
    "x = d.R.sum(axis=1)\n",
    "y = topk_users_binarized.sum(axis=1)\n",
    "pylab.scatter(x,y)\n",
    "pylab.xlabel(\"#items purchased previously\")\n",
    "pylab.ylabel(\"#items recommended\")"
   ]
  },
  {
   "cell_type": "markdown",
   "metadata": {},
   "source": [
    "### Conclusion\n",
    "The above plot shows positive correlation between #purchased items and #recommended items"
   ]
  },
  {
   "cell_type": "markdown",
   "metadata": {},
   "source": [
    "<h2>Normalize recommendation score by #purchased items</h2>"
   ]
  },
  {
   "cell_type": "code",
   "execution_count": 155,
   "metadata": {
    "collapsed": true
   },
   "outputs": [],
   "source": [
    "reco = model.recommend_all(train)\n",
    "reco = removeAlreadyPurchasedUsers(reco, train)\n",
    "reco = scipy.sparse.csr_matrix(reco / train.sum(axis=1))\n",
    "topk_users = keepTopKSimilarity(reco, 10)\n",
    "topk_users_binarized = topk_users.copy()\n",
    "topk_users_binarized.data[:] = 1.0\n"
   ]
  },
  {
   "cell_type": "code",
   "execution_count": 156,
   "metadata": {
    "collapsed": true
   },
   "outputs": [],
   "source": [
    "x, y = histogram_unary(topk_users_binarized.sum(axis=1))"
   ]
  },
  {
   "cell_type": "code",
   "execution_count": 157,
   "metadata": {
    "collapsed": false
   },
   "outputs": [
    {
     "data": {
      "text/plain": [
       "<matplotlib.text.Text at 0x7fae360d0a50>"
      ]
     },
     "execution_count": 157,
     "metadata": {},
     "output_type": "execute_result"
    },
    {
     "data": {
      "image/png": "[encoded data removed]",
      "text/plain": [
       "<matplotlib.figure.Figure at 0x7fae35f64610>"
      ]
     },
     "metadata": {},
     "output_type": "display_data"
    }
   ],
   "source": [
    "pylab.scatter(x,y)\n",
    "pylab.xlabel(\"#items recommended\")\n",
    "pylab.ylabel(\"#users\")"
   ]
  },
  {
   "cell_type": "markdown",
   "metadata": {},
   "source": [
    "### Conclusion\n",
    "Normalizing the score for each user by #item purchases before finding top-k users to recommend doesnt help"
   ]
  },
  {
   "cell_type": "code",
   "execution_count": 162,
   "metadata": {
    "collapsed": false
   },
   "outputs": [],
   "source": [
    "reco = model.recommend_all(train)\n",
    "reco = removeAlreadyPurchasedUsers(reco, train)\n",
    "sim = model.sim.copy()\n",
    "sim.data[:] = 1.0\n",
    "reco = scipy.sparse.csr_matrix(np.divide(reco, (train.T * sim).T))\n",
    "topk_users = keepTopKSimilarity(reco,10)\n",
    "topk_users_binarized = topk_users.copy()\n",
    "topk_users_binarized.data[:] = 1.0\n",
    "x, y = histogram_unary(topk_users_binarized.sum(axis=1))\n"
   ]
  },
  {
   "cell_type": "code",
   "execution_count": 163,
   "metadata": {
    "collapsed": false
   },
   "outputs": [
    {
     "data": {
      "text/plain": [
       "<matplotlib.text.Text at 0x7fae35eb0a90>"
      ]
     },
     "execution_count": 163,
     "metadata": {},
     "output_type": "execute_result"
    },
    {
     "data": {
      "image/png": "[encoded data removed]",
      "text/plain": [
       "<matplotlib.figure.Figure at 0x7fae35e50610>"
      ]
     },
     "metadata": {},
     "output_type": "display_data"
    }
   ],
   "source": [
    "pylab.scatter(x,y)\n",
    "pylab.xlabel(\"#items recommended\")\n",
    "pylab.ylabel(\"#users\")"
   ]
  },
  {
   "cell_type": "code",
   "execution_count": 166,
   "metadata": {
    "collapsed": false
   },
   "outputs": [],
   "source": [
    "import numpy as np\n",
    "def softmax(mat, axis):\n",
    "    val = np.exp(mat.todense())\n",
    "    sm = val.sum(axis=axis)\n",
    "    return val/sm\n",
    "    "
   ]
  },
  {
   "cell_type": "code",
   "execution_count": 167,
   "metadata": {
    "collapsed": true
   },
   "outputs": [],
   "source": [
    "reco = model.recommend_all(train)\n",
    "reco = removeAlreadyPurchasedUsers(reco, train)\n",
    "reco = scipy.sparse.csr_matrix(softmax(reco, axis=1))\n",
    "topk_users = keepTopKSimilarity(reco, 10)\n",
    "topk_users_binarized = topk_users.copy()\n",
    "topk_users_binarized.data[:] = 1.0"
   ]
  },
  {
   "cell_type": "code",
   "execution_count": 171,
   "metadata": {
    "collapsed": false
   },
   "outputs": [
    {
     "data": {
      "text/plain": [
       "<matplotlib.text.Text at 0x7fae359c2090>"
      ]
     },
     "execution_count": 171,
     "metadata": {},
     "output_type": "execute_result"
    },
    {
     "data": {
      "image/png": "[encoded data removed]",
      "text/plain": [
       "<matplotlib.figure.Figure at 0x7fae35c9a150>"
      ]
     },
     "metadata": {},
     "output_type": "display_data"
    }
   ],
   "source": [
    "topk_users = keepTopKSimilarity(reco,10)\n",
    "topk_users_binarized = topk_users.copy()\n",
    "topk_users_binarized.data[:] = 1.0\n",
    "x, y = histogram_unary(topk_users_binarized.sum(axis=1))\n",
    "\n",
    "pylab.scatter(x,y)\n",
    "# pylab.xscale(\"log\")\n",
    "# pylab.yscale(\"log\")\n",
    "pylab.xlabel(\"#items recommended\")\n",
    "pylab.ylabel(\"#users\")"
   ]
  },
  {
   "cell_type": "markdown",
   "metadata": {
    "collapsed": false
   },
   "source": [
    "<h2>Linear recommendation models</h2>"
   ]
  },
  {
   "cell_type": "code",
   "execution_count": 172,
   "metadata": {
    "collapsed": false
   },
   "outputs": [],
   "source": [
    "from pyrec.recommender.linear_models.regression_models.sparse_linear import  SparseLinear\n",
    "from pyrec.recommender.modelArgs import SparseLinearArgs"
   ]
  },
  {
   "cell_type": "code",
   "execution_count": 176,
   "metadata": {
    "collapsed": false
   },
   "outputs": [],
   "source": [
    "from sklearn.linear_model import SGDRegressor, SGDClassifier\n",
    "import scipy.sparse\n",
    "import numpy as np\n",
    "from pyrec.recommender.linear_models.regression_models.base import BaseLinear\n",
    "from pyrec.parallel.ipythonParallelLinear import ParallelRunner\n",
    "\n",
    "\n",
    "\n",
    "class args(object):\n",
    "    \"\"\"docstring for args\"\"\"\n",
    "    def __init__(self):\n",
    "        super(args, self).__init__()\n",
    "    \n",
    "    def __str__(self):\n",
    "        fields = []\n",
    "        for key, value in self.__dict__.items():\n",
    "            fields.append( \"%s : %s\" % (str(key), str(value)) )\n",
    "        return \"\\n\".join(fields)\n",
    "\n",
    "\n",
    "class SparseLinearArgs(args):\n",
    "\n",
    "    \"\"\"docstring for SparseLinearArgs\"\"\"\n",
    "\n",
    "    def __init__(self, l1, l2, mtype, loss, penalty, intercept=False, problem=\"classification\"):\n",
    "        super(SparseLinearArgs, self).__init__()\n",
    "        self.l1 = l1\n",
    "        self.l2 = l2\n",
    "        self.model_type = mtype\n",
    "        self.loss = loss\n",
    "        self.penalty = penalty\n",
    "        self.intercept = intercept\n",
    "        self.problem = problem\n",
    "        \n",
    "class SparseLinear(BaseLinear):\n",
    "\n",
    "    \"\"\"docstring for SparseLinear\"\"\"\n",
    "\n",
    "    def __init__(self, arg):\n",
    "        super(SparseLinear, self).__init__()\n",
    "        self.arg = arg\n",
    "        self.target = None\n",
    "        self.__initargs()\n",
    "\n",
    "    def __initargs(self):\n",
    "        self.alpha = self.arg.l1 + self.arg.l2\n",
    "        self.l1_ratio = self.arg.l1 / self.alpha\n",
    "        self.loss = self.arg.loss\n",
    "        self.penalty = self.arg.penalty\n",
    "        self.intercept = self.arg.intercept\n",
    "        self.model_type = self.arg.model_type\n",
    "        self.problem = self.arg.problem\n",
    "\n",
    "    def __getLearner(self):\n",
    "        if self.problem == \"classification\":\n",
    "            return SGDClassifier(loss=self.loss, penalty=self.penalty,\n",
    "                                alpha=self.alpha, l1_ratio=self.l1_ratio,\n",
    "                                fit_intercept=self.intercept)\n",
    "\n",
    "        else:\n",
    "            return SGDRegressor(loss=self.loss, penalty=self.penalty,\n",
    "                                alpha=self.alpha, l1_ratio=self.l1_ratio,\n",
    "                                fit_intercept=self.intercept)\n",
    "\n",
    "    def fit(self, train_input, train_target, target_indices=None):\n",
    "        import numpy as np\n",
    "        import scipy.sparse\n",
    "        models = []\n",
    "        if self.model_type == \"user\":\n",
    "            train_target = train_target.T\n",
    "            train_input = train_input.T\n",
    "        if target_indices is not None:\n",
    "            train_target = train_target[:, target_indices]\n",
    "        else:\n",
    "            target_indices = range(train_target.shape[1])\n",
    "        #for fast column access\n",
    "        train_target = train_target.tocsc()\n",
    "        for i, index in enumerate(target_indices):\n",
    "            learner = self.__getLearner()\n",
    "            y = np.ravel(train_target.getcol(i).todense())\n",
    "            learner.fit(train_input, y)\n",
    "            models.append(learner.coef_)\n",
    "        self.sim = scipy.sparse.csc_matrix(np.vstack(models).T)\n",
    "        return target_indices, self.sim\n",
    "\n",
    "    def fit_parallel(self, train_input, train_target,\n",
    "                     target_indices=None, num_procs=5,\n",
    "                     batch_size=1000):\n",
    "        prunner = ParallelRunner(self, num_procs, batch_size)\n",
    "        indices, sim = prunner.fit(train_input, train_target)\n",
    "        self.sim = sim\n",
    "        return indices, self.sim\n",
    "\n",
    "    def recommend_all(self, train_input):\n",
    "        if self.model_type == \"item\":\n",
    "            score = train_input * self.sim\n",
    "        elif self.model_type == \"user\":\n",
    "            score = (self.sim.T * train_input).tocsr()\n",
    "        return score\n",
    "\n",
    "    def recommend(self, users, train_input):\n",
    "        if self.model_type == \"item\":\n",
    "            reco = train_input[users, :] * self.sim\n",
    "        if self.model_type == \"user\":\n",
    "            reco = (self.sim[:, users].T * train_input)\n",
    "        return reco.todense()\n",
    "\n"
   ]
  },
  {
   "cell_type": "code",
   "execution_count": 177,
   "metadata": {
    "collapsed": true
   },
   "outputs": [],
   "source": [
    "args = SparseLinearArgs(0.0001, 0.01, \"item\", \"log\", \"elasticnet\")\n",
    "args.model_type = \"item\"\n",
    "model = SparseLinear(args)"
   ]
  },
  {
   "cell_type": "code",
   "execution_count": 178,
   "metadata": {
    "collapsed": false
   },
   "outputs": [],
   "source": [
    "indices, sim = model.fit(train, train)"
   ]
  },
  {
   "cell_type": "code",
   "execution_count": 179,
   "metadata": {
    "collapsed": false
   },
   "outputs": [],
   "source": [
    "reco = train * model.sim\n",
    "reco = removeAlreadyPurchasedUsers(reco, train)\n",
    "topk_users = keepTopKSimilarity(reco, 10)\n",
    "topk_users_binarized = topk_users.copy()\n",
    "topk_users_binarized.data[:] = 1.0"
   ]
  },
  {
   "cell_type": "code",
   "execution_count": 180,
   "metadata": {
    "collapsed": false
   },
   "outputs": [
    {
     "data": {
      "text/plain": [
       "<matplotlib.text.Text at 0x7fae36b64d90>"
      ]
     },
     "execution_count": 180,
     "metadata": {},
     "output_type": "execute_result"
    },
    {
     "data": {
      "image/png": "[encoded data removed]",
      "text/plain": [
       "<matplotlib.figure.Figure at 0x7fae358ef1d0>"
      ]
     },
     "metadata": {},
     "output_type": "display_data"
    }
   ],
   "source": [
    "topk_users = keepTopKSimilarity(reco,10)\n",
    "topk_users_binarized = topk_users.copy()\n",
    "topk_users_binarized.data[:] = 1.0\n",
    "x, y = histogram_unary(topk_users_binarized.sum(axis=1))\n",
    "\n",
    "pylab.scatter(x,y)\n",
    "pylab.xlabel(\"#items recommended\")\n",
    "pylab.ylabel(\"#users\")"
   ]
  },
  {
   "cell_type": "markdown",
   "metadata": {},
   "source": [
    "<h2> Via Linear Regression </h2>"
   ]
  },
  {
   "cell_type": "code",
   "execution_count": 247,
   "metadata": {
    "collapsed": false
   },
   "outputs": [
    {
     "name": "stdout",
     "output_type": "stream",
     "text": [
      "(0.017613779172819324, array([ 0.07563204,  0.06991714,  0.06210962,  0.05331421]), array([ 0.00896881,  0.01252134,  0.02056728,  0.03223416]), 3138)\n",
      "(0.035873337168266607, array([ 0.1179095 ,  0.10943276,  0.0971638 ,  0.08446463]), array([ 0.01715021,  0.02422209,  0.03896956,  0.06209693]), 3138)\n",
      "(0.069542610299165419, array([ 0.19407266,  0.17724665,  0.15803059,  0.13440089]), array([ 0.02872427,  0.0420227 ,  0.06777144,  0.10486751]), 3138)\n",
      "(0.096983448872938097, array([ 0.2654557 ,  0.24110899,  0.20643722,  0.17232314]), array([ 0.04134793,  0.05830512,  0.09174684,  0.14390735]), 3138)\n"
     ]
    }
   ],
   "source": [
    "lbda = 1000\n",
    "reco = train * ((np.linalg.inv((train.T * train + lbda * scipy.sparse.eye(train.shape[1])).todense())) * train.T * train)\n",
    "reco = scipy.sparse.csr_matrix(reco)\n",
    "print evalMetrics(train.T.tocsr(), test.T.tocsr(), reco.T.tocsr())"
   ]
  },
  {
   "cell_type": "code",
   "execution_count": 248,
   "metadata": {
    "collapsed": false
   },
   "outputs": [],
   "source": [
    "reco = removeAlreadyPurchasedUsers(reco, train)\n",
    "topk_users = keepTopKSimilarity(reco, 10)\n",
    "topk_users_binarized = topk_users.copy()\n",
    "topk_users_binarized.data[:] = 1.0"
   ]
  },
  {
   "cell_type": "code",
   "execution_count": 249,
   "metadata": {
    "collapsed": false
   },
   "outputs": [
    {
     "data": {
      "text/plain": [
       "<matplotlib.text.Text at 0x7fae1ac35690>"
      ]
     },
     "execution_count": 249,
     "metadata": {},
     "output_type": "execute_result"
    },
    {
     "data": {
      "image/png": "[encoded data removed]",
      "text/plain": [
       "<matplotlib.figure.Figure at 0x7fae1ad2de10>"
      ]
     },
     "metadata": {},
     "output_type": "display_data"
    }
   ],
   "source": [
    "topk_users = keepTopKSimilarity(reco,10)\n",
    "topk_users_binarized = topk_users.copy()\n",
    "topk_users_binarized.data[:] = 1.0\n",
    "x, y = histogram_unary(topk_users_binarized.sum(axis=1))\n",
    "\n",
    "pylab.scatter(x,y)\n",
    "pylab.xlabel(\"#items recommended\")\n",
    "pylab.ylabel(\"#users\")"
   ]
  },
  {
   "cell_type": "markdown",
   "metadata": {},
   "source": [
    "<h2>Via Matrix Factorization</h2>"
   ]
  },
  {
   "cell_type": "code",
   "execution_count": 250,
   "metadata": {
    "collapsed": false
   },
   "outputs": [],
   "source": [
    "from pyrec.recommender.bilinear_models.mf import MF\n",
    "from pyrec.recommender.modelArgs import WRMFArgs"
   ]
  },
  {
   "cell_type": "code",
   "execution_count": 263,
   "metadata": {
    "collapsed": false
   },
   "outputs": [],
   "source": [
    "args = WRMFArgs(0.1, 10)\n",
    "model = MF(args)\n",
    "model.fit(train, train)"
   ]
  },
  {
   "cell_type": "code",
   "execution_count": 264,
   "metadata": {
    "collapsed": false
   },
   "outputs": [
    {
     "name": "stdout",
     "output_type": "stream",
     "text": [
      "(0.14436763910669251, array([ 0.30476668,  0.26942867,  0.22482459,  0.179285  ]), array([ 0.06645   ,  0.09368777,  0.15165069,  0.23017172]), 5986)\n"
     ]
    }
   ],
   "source": [
    "reco = model.recommend_all(train)\n",
    "print evalMetrics(train, test, reco)"
   ]
  },
  {
   "cell_type": "code",
   "execution_count": 265,
   "metadata": {
    "collapsed": false
   },
   "outputs": [],
   "source": [
    "reco = scipy.sparse.csr_matrix(reco)\n",
    "reco = removeAlreadyPurchasedUsers(reco, train)\n",
    "topk_users = keepTopKSimilarity(reco, 10)\n",
    "topk_users_binarized = topk_users.copy()\n",
    "topk_users_binarized.data[:] = 1.0"
   ]
  },
  {
   "cell_type": "code",
   "execution_count": 266,
   "metadata": {
    "collapsed": false
   },
   "outputs": [
    {
     "data": {
      "text/plain": [
       "<matplotlib.text.Text at 0x7fae1a8b42d0>"
      ]
     },
     "execution_count": 266,
     "metadata": {},
     "output_type": "execute_result"
    },
    {
     "data": {
      "image/png": "[encoded data removed]",
      "text/plain": [
       "<matplotlib.figure.Figure at 0x7fae1a9e9410>"
      ]
     },
     "metadata": {},
     "output_type": "display_data"
    }
   ],
   "source": [
    "topk_users = keepTopKSimilarity(reco,10)\n",
    "topk_users_binarized = topk_users.copy()\n",
    "topk_users_binarized.data[:] = 1.0\n",
    "x, y = histogram_unary(topk_users_binarized.sum(axis=1))\n",
    "\n",
    "pylab.scatter(x,y)\n",
    "pylab.xlabel(\"#items recommended\")\n",
    "pylab.ylabel(\"#users\")"
   ]
  },
  {
   "cell_type": "code",
   "execution_count": null,
   "metadata": {
    "collapsed": true
   },
   "outputs": [],
   "source": []
  }
 ],
 "metadata": {
  "kernelspec": {
   "display_name": "Python 2",
   "language": "python",
   "name": "python2"
  },
  "language_info": {
   "codemirror_mode": {
    "name": "ipython",
    "version": 2
   },
   "file_extension": ".py",
   "mimetype": "text/x-python",
   "name": "python",
   "nbconvert_exporter": "python",
   "pygments_lexer": "ipython2",
   "version": "2.7.11"
  }
 },
 "nbformat": 4,
 "nbformat_minor": 0
}
